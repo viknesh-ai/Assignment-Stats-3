{
 "cells": [
  {
   "cell_type": "code",
   "execution_count": 1,
   "metadata": {},
   "outputs": [],
   "source": [
    "#problem 1\n",
    "# Solution :"
   ]
  },
  {
   "cell_type": "markdown",
   "metadata": {},
   "source": [
    "As stated in Problem  , \n",
    "\n",
    "The mean of population μ (mu)= 100\n",
    "\n",
    "The standard deviation of problem σ (sigma) = 15\n",
    "\n",
    "In order to prove that ,  raw cornstarch had an effect or not on blood glucose level ,\n",
    "\n",
    "Hypothesis test , \n",
    "\n",
    "Stpe 1: \n",
    "\n",
    "( Null Hypothesis : That diet of raw cornstartch has effect upon Blood glucose level ) H0: μ =100\n",
    "\n",
    "( Alternative Hypothesis : That diet of raw cornstartch has no effect upon Blood glucose level ) H1: μ >100\n",
    "\n",
    "\n",
    "Step 2:\n",
    "\n",
    "Significance level (α) , , which refers to the degree of significance in which we accept or reject the null-hypothesis.\n",
    "Generally 100% accuracy is not possible for accepting or rejecting a hypothesis.\n",
    "Hence consider significance level α =5% =0.05\n",
    "\n",
    "\n",
    "\n",
    "Step 3:\n",
    "\n",
    " \n",
    "Hypothesis testing can be done through many ways , one of which is Z-test (whcih predict the standard, normal distribution of data). A Z-test is any statistical test, for which the distribution of the test statistic under the null hypothesis can be approximated by a normal distribution. Z- test , return the critical value (or region of rejection) which decide that nul hypothesis can be rejected or not.\n",
    "\n",
    "Formula: \n",
    "\n",
    "       Z = (Sample mean (X) - Population mean (μ ) )/ ( Population Standard deviation ( σ)/ sqrt(No. Of Samples(N)) )\n",
    "\n"
   ]
  },
  {
   "cell_type": "code",
   "execution_count": 23,
   "metadata": {},
   "outputs": [
    {
     "name": "stdout",
     "output_type": "stream",
     "text": [
      " Z-Score value is : 3.2\n"
     ]
    }
   ],
   "source": [
    "# Calculation \n",
    "\n",
    "μ =100 # mean of population\n",
    "X= 108 # mean of sample for 36 samples\n",
    "σ= 15 # standard deviation  of population\n",
    "N = 36 # No. Of Samples \n",
    "\n",
    "\n",
    "\n",
    "\n",
    "import math   \n",
    "\n",
    "import scipy.stats as stats \n",
    "\n",
    "Z = (X - μ) / ((σ) /math.sqrt(N))\n",
    "print(\" Z-Score value is :\",Z)"
   ]
  },
  {
   "cell_type": "markdown",
   "metadata": {},
   "source": [
    "Note :cdf  is Cumulative density function , is the probability that the variable takes a value less than or equal to x. \n",
    "That is F(x)=Pr[X≤x]=α"
   ]
  },
  {
   "cell_type": "code",
   "execution_count": 24,
   "metadata": {},
   "outputs": [
    {
     "name": "stdout",
     "output_type": "stream",
     "text": [
      "The probability of having mean less than 108 ( mean as per sample) is  0.9993\n"
     ]
    }
   ],
   "source": [
    "\n",
    "\n",
    "p = stats.norm.cdf(Z)  \n",
    "print(\"The probability of having mean less than 108 ( mean as per sample) is \",round(p,4))"
   ]
  },
  {
   "cell_type": "markdown",
   "metadata": {},
   "source": [
    "As per sample , 36 patients who have tried the raw cornstarch diet have a mean glucose level of 108 . Hence probability of having value less than 108 is 0.9993 and more than or equals to 108 is (1-0.9993)=0.0007."
   ]
  },
  {
   "cell_type": "markdown",
   "metadata": {},
   "source": [
    "----------------------------------------------------------------------------------------------------------------------------"
   ]
  },
  {
   "cell_type": "code",
   "execution_count": 20,
   "metadata": {},
   "outputs": [],
   "source": [
    "#problem 2\n",
    "# Solution "
   ]
  },
  {
   "cell_type": "markdown",
   "metadata": {},
   "source": [
    "Probability ananlysis:\n",
    "\n",
    "Let consider that,\n",
    "\n",
    "Probability of having Republican voters in First state P1 =52% =0.52\n",
    "\n",
    "Probability of having Republican voters in Second state P2 =47% =0.47\n",
    "\n",
    "\n",
    "p1 is the probability for  proportion of Republican voters in the sample from the first state\n",
    "\n",
    "p2 is the probability for  proportion of Republican voters in the sample from the Second state\n",
    "\n",
    "Number of voters sampled from First state n1 =100\n",
    "\n",
    "Number of voters sampled from Second state n2 =100\n",
    "\n",
    "\n",
    "In order to calculation, the sample size should be large enough  to model differences with a normal population, \n",
    "Hence , \n",
    "\n",
    "Sample of republican voters from first state > n1P1 = 100 * 0.52 = 52, \n",
    "\n",
    "Sample of democratic voters from first state > n1(1 - P1) = 100 * 0.48 = 48, \n",
    "\n",
    "Sample of republican voters from Second state > n2P2 = 100 * 0.47 = 47, \n",
    "\n",
    "Sample of democratic voters from Second state >  n2(1 - P2) = 100 * 0.53 = 53 "
   ]
  },
  {
   "cell_type": "code",
   "execution_count": 39,
   "metadata": {},
   "outputs": [
    {
     "name": "stdout",
     "output_type": "stream",
     "text": [
      "The mean(μ) of sample proportions is  0.05\n"
     ]
    }
   ],
   "source": [
    "# Calculate mean of the difference in sample proportions\n",
    "\n",
    "\n",
    "\n",
    "P1 = 0.52\n",
    "P2= 0.47\n",
    "μ = P1 - P2\n",
    "\n",
    "print(\"The mean(μ) of sample proportions is \", round(μ,2))  # round funtion to get values after decimal"
   ]
  },
  {
   "cell_type": "code",
   "execution_count": 35,
   "metadata": {},
   "outputs": [
    {
     "name": "stdout",
     "output_type": "stream",
     "text": [
      "The standard deviation of difference is 0.07061869440877536\n"
     ]
    }
   ],
   "source": [
    "#Calculate Standard deviation (σ) of the difference\n",
    "\n",
    "# P1 = Probability of having Republican voters in First state =0.52\n",
    "# 1-P1 = Probability of having democratic voters in First state =0.48\n",
    "# P2 = Probability of having democratic voters in First state =0.47\n",
    "# 1-P2 = Probability of having democratic voters in First state =0.53\n",
    "\n",
    "# n1 = No. of samples from first state=100\n",
    "# n2 = No. of samples from Second  state=100\n",
    "\n",
    "P1=0.52\n",
    "P2=0.47\n",
    "n1=100\n",
    "n2=100\n",
    "\n",
    "# import python module\n",
    "\n",
    "import math  # for mathematical calculation\n",
    "σ = math.sqrt(( P1*(1 - P1) / n1 ) + ( P2*(1 - P2) / n2 ) )\n",
    "print(\"The standard deviation of difference is\",σ)"
   ]
  },
  {
   "cell_type": "markdown",
   "metadata": {},
   "source": [
    "In order to calculate that , p1 is less than p2 \n",
    "where , \n",
    "p1 =  is the probability for proportion of Republican voters in the sample from the first state\n",
    "p2 =  is the probability for proportion of Republican voters in the sample from the Second state\n",
    "\n",
    "Hence , to calculate p1 is less than p2 , which is equal to finding the probability that p1 - p2 is less than zero.\n",
    "Thus standard normal probablity ( z-score) for random variable (p1-p2) is :\n",
    "\n",
    "Z = ( sample mean of differnce (X) -  sample mean of differnce (μ) ) / ( Standard devaition of difference (σ) )\n"
   ]
  },
  {
   "cell_type": "code",
   "execution_count": 44,
   "metadata": {},
   "outputs": [
    {
     "name": "stdout",
     "output_type": "stream",
     "text": [
      "The Z-Score is: -0.7080278164104213\n"
     ]
    }
   ],
   "source": [
    "X = 0  # as  , mean difference of samples p1 - p2 is less than zero\n",
    "μ # mean of sample proportions or sample mean of difference\n",
    "σ # standard deviation of difference in population proportions\n",
    "\n",
    "\n",
    "Z = (X -μ)/σ\n",
    "print(\"The Z-Score is:\" , Z)"
   ]
  },
  {
   "cell_type": "code",
   "execution_count": 49,
   "metadata": {},
   "outputs": [
    {
     "name": "stdout",
     "output_type": "stream",
     "text": [
      "Output:\n",
      "\n",
      "The probability that the survey will show a greater percentage of Republican voters in the second state than in the first state is  0.24\n"
     ]
    }
   ],
   "source": [
    "\n",
    "import scipy.stats as stats # python module for statistical calculations\n",
    "\n",
    "# calcultion of standard normal probabilities based upon \" Z - Score\"\n",
    "\n",
    "p = stats.norm.cdf(Z)  # cdf function takes Z- score , based upon which return the standard normal probality\n",
    "print(\"Output:\\n\")\n",
    "print(\"The probability that the survey will show a greater percentage of Republican voters in the second state than in the first state is \",round(p,2))"
   ]
  },
  {
   "cell_type": "markdown",
   "metadata": {},
   "source": [
    "---------------------------------------------------------------------------------------------------------------------------"
   ]
  },
  {
   "cell_type": "markdown",
   "metadata": {},
   "source": [
    "<b> Problem 3</b> You take the SAT and score 1100. The mean score for the SAT is 1026 and the standard deviation is 209. How well did you score on the test compared to the average test taker?"
   ]
  },
  {
   "cell_type": "code",
   "execution_count": 52,
   "metadata": {},
   "outputs": [
    {
     "name": "stdout",
     "output_type": "stream",
     "text": [
      "The Z-Score value is 0.3541\n"
     ]
    }
   ],
   "source": [
    "#problem 3\n",
    "# Solution \n",
    "\n",
    "\n",
    "# mean of SAT score is μ = 1026\n",
    "# Standard deviation of SAT score is σ  = 209\n",
    "\n",
    "\n",
    "\n",
    "X =1100\n",
    "σ = 209\n",
    "μ = 1026\n",
    "# Z-score equation : (sample mean - population mean)/ (standard mean of error( which is equal to standard devaition/square root of no. of samples))\n",
    "Z = (X-μ )/σ \n",
    "print(\"The Z-Score value is\",round(Z,4))"
   ]
  },
  {
   "cell_type": "code",
   "execution_count": 58,
   "metadata": {},
   "outputs": [
    {
     "name": "stdout",
     "output_type": "stream",
     "text": [
      "Output:\n",
      "\n",
      "The probabiltiy that Student's score on the test compared to the average test taker is 0.6384 or 63.84 %\n"
     ]
    }
   ],
   "source": [
    "import scipy.stats as stats \n",
    "\n",
    "p = stats.norm.cdf(Z) \n",
    "print(\"Output:\\n\")\n",
    "print(\"The probabiltiy that Student's score on the test compared to the average test taker is\",round(p,4) , 'or' , round((p*100),2),'%')"
   ]
  }
 ],
 "metadata": {
  "kernelspec": {
   "display_name": "Python 3",
   "language": "python",
   "name": "python3"
  },
  "language_info": {
   "codemirror_mode": {
    "name": "ipython",
    "version": 3
   },
   "file_extension": ".py",
   "mimetype": "text/x-python",
   "name": "python",
   "nbconvert_exporter": "python",
   "pygments_lexer": "ipython3",
   "version": "3.8.8"
  }
 },
 "nbformat": 4,
 "nbformat_minor": 2
}
